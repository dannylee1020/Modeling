{
 "cells": [
  {
   "cell_type": "code",
   "execution_count": 233,
   "metadata": {},
   "outputs": [],
   "source": [
    "import numpy as np\n",
    "import pandas as pd\n",
    "import matplotlib.pyplot as plt\n",
    "import warnings\n",
    "\n",
    "%matplotlib inline\n",
    "warnings.filterwarnings('ignore')\n",
    "plt.style.use('seaborn')"
   ]
  },
  {
   "cell_type": "markdown",
   "metadata": {},
   "source": [
    "For more info about Adaboost and Gradient Boosting, read [here](https://towardsdatascience.com/basic-ensemble-learning-random-forest-adaboost-gradient-boosting-step-by-step-explained-95d49d1e2725)"
   ]
  },
  {
   "cell_type": "markdown",
   "metadata": {},
   "source": [
    "## Feature Engineering"
   ]
  },
  {
   "cell_type": "code",
   "execution_count": 112,
   "metadata": {},
   "outputs": [],
   "source": [
    "PATH = '/Users/dhyungseoklee/Projects/data/'\n",
    "df = pd.read_excel(PATH + 'energy_data.xlsx')\n",
    "df.columns = [['relative compactness','surface area','wall area','roof area','overall height',\n",
    "               'orientation','glazing area','glazing area distribution','heating load',\n",
    "               'cooling load']]"
   ]
  },
  {
   "cell_type": "code",
   "execution_count": 113,
   "metadata": {},
   "outputs": [
    {
     "data": {
      "text/html": [
       "<div>\n",
       "<style scoped>\n",
       "    .dataframe tbody tr th:only-of-type {\n",
       "        vertical-align: middle;\n",
       "    }\n",
       "\n",
       "    .dataframe tbody tr th {\n",
       "        vertical-align: top;\n",
       "    }\n",
       "\n",
       "    .dataframe thead tr th {\n",
       "        text-align: left;\n",
       "    }\n",
       "</style>\n",
       "<table border=\"1\" class=\"dataframe\">\n",
       "  <thead>\n",
       "    <tr>\n",
       "      <th></th>\n",
       "      <th>relative compactness</th>\n",
       "      <th>surface area</th>\n",
       "      <th>wall area</th>\n",
       "      <th>roof area</th>\n",
       "      <th>overall height</th>\n",
       "      <th>orientation</th>\n",
       "      <th>glazing area</th>\n",
       "      <th>glazing area distribution</th>\n",
       "      <th>heating load</th>\n",
       "      <th>cooling load</th>\n",
       "    </tr>\n",
       "  </thead>\n",
       "  <tbody>\n",
       "    <tr>\n",
       "      <th>0</th>\n",
       "      <td>0.98</td>\n",
       "      <td>514.5</td>\n",
       "      <td>294.0</td>\n",
       "      <td>110.25</td>\n",
       "      <td>7.0</td>\n",
       "      <td>2</td>\n",
       "      <td>0.0</td>\n",
       "      <td>0</td>\n",
       "      <td>15.55</td>\n",
       "      <td>21.33</td>\n",
       "    </tr>\n",
       "    <tr>\n",
       "      <th>1</th>\n",
       "      <td>0.98</td>\n",
       "      <td>514.5</td>\n",
       "      <td>294.0</td>\n",
       "      <td>110.25</td>\n",
       "      <td>7.0</td>\n",
       "      <td>3</td>\n",
       "      <td>0.0</td>\n",
       "      <td>0</td>\n",
       "      <td>15.55</td>\n",
       "      <td>21.33</td>\n",
       "    </tr>\n",
       "    <tr>\n",
       "      <th>2</th>\n",
       "      <td>0.98</td>\n",
       "      <td>514.5</td>\n",
       "      <td>294.0</td>\n",
       "      <td>110.25</td>\n",
       "      <td>7.0</td>\n",
       "      <td>4</td>\n",
       "      <td>0.0</td>\n",
       "      <td>0</td>\n",
       "      <td>15.55</td>\n",
       "      <td>21.33</td>\n",
       "    </tr>\n",
       "    <tr>\n",
       "      <th>3</th>\n",
       "      <td>0.98</td>\n",
       "      <td>514.5</td>\n",
       "      <td>294.0</td>\n",
       "      <td>110.25</td>\n",
       "      <td>7.0</td>\n",
       "      <td>5</td>\n",
       "      <td>0.0</td>\n",
       "      <td>0</td>\n",
       "      <td>15.55</td>\n",
       "      <td>21.33</td>\n",
       "    </tr>\n",
       "    <tr>\n",
       "      <th>4</th>\n",
       "      <td>0.90</td>\n",
       "      <td>563.5</td>\n",
       "      <td>318.5</td>\n",
       "      <td>122.50</td>\n",
       "      <td>7.0</td>\n",
       "      <td>2</td>\n",
       "      <td>0.0</td>\n",
       "      <td>0</td>\n",
       "      <td>20.84</td>\n",
       "      <td>28.28</td>\n",
       "    </tr>\n",
       "  </tbody>\n",
       "</table>\n",
       "</div>"
      ],
      "text/plain": [
       "  relative compactness surface area wall area roof area overall height  \\\n",
       "0                 0.98        514.5     294.0    110.25            7.0   \n",
       "1                 0.98        514.5     294.0    110.25            7.0   \n",
       "2                 0.98        514.5     294.0    110.25            7.0   \n",
       "3                 0.98        514.5     294.0    110.25            7.0   \n",
       "4                 0.90        563.5     318.5    122.50            7.0   \n",
       "\n",
       "  orientation glazing area glazing area distribution heating load cooling load  \n",
       "0           2          0.0                         0        15.55        21.33  \n",
       "1           3          0.0                         0        15.55        21.33  \n",
       "2           4          0.0                         0        15.55        21.33  \n",
       "3           5          0.0                         0        15.55        21.33  \n",
       "4           2          0.0                         0        20.84        28.28  "
      ]
     },
     "execution_count": 113,
     "metadata": {},
     "output_type": "execute_result"
    }
   ],
   "source": [
    "df.head()"
   ]
  },
  {
   "cell_type": "code",
   "execution_count": 114,
   "metadata": {},
   "outputs": [
    {
     "data": {
      "text/plain": [
       "<matplotlib.legend.Legend at 0x1a3ae95438>"
      ]
     },
     "execution_count": 114,
     "metadata": {},
     "output_type": "execute_result"
    },
    {
     "data": {
      "image/png": "[encoded data removed]",
      "text/plain": [
       "<Figure size 576x396 with 2 Axes>"
      ]
     },
     "metadata": {},
     "output_type": "display_data"
    }
   ],
   "source": [
    "# checking normality of target variable\n",
    "from scipy import stats\n",
    "import seaborn as sns\n",
    "\n",
    "plt.subplot(121)\n",
    "target1 = df['heating load']\n",
    "(mu, sigma) = stats.norm.fit(target1)\n",
    "sns.distplot(target1, fit = stats.norm)\n",
    "plt.title('heating load')\n",
    "plt.legend([f''' mean:{mu:.2f}, sd:{sigma:.2f}'''], loc = 'best' )\n",
    "\n",
    "plt.subplot(122)\n",
    "target2 = df['cooling load']\n",
    "(mu1, sigma1) = stats.norm.fit(target2)\n",
    "sns.distplot(target2, fit = stats.norm)\n",
    "plt.title('cooling load')\n",
    "plt.legend([f''' mean:{mu1:.2f}, sd:{sigma1:.2f}'''], loc = 'best')"
   ]
  },
  {
   "cell_type": "code",
   "execution_count": 115,
   "metadata": {
    "scrolled": true
   },
   "outputs": [
    {
     "data": {
      "text/plain": [
       "<matplotlib.legend.Legend at 0x1a395bedd8>"
      ]
     },
     "execution_count": 115,
     "metadata": {},
     "output_type": "execute_result"
    },
    {
     "data": {
      "image/png": "[encoded data removed]",
      "text/plain": [
       "<Figure size 576x396 with 2 Axes>"
      ]
     },
     "metadata": {},
     "output_type": "display_data"
    }
   ],
   "source": [
    "# transform target variables to normal distribution to better fit the model\n",
    "target1_nd = np.log1p(target1)\n",
    "target2_nd = np.log1p(target2)\n",
    "# check the distribution\n",
    "fig, ax = plt.subplots(1,2)\n",
    "(mu, sigma) = stats.norm.fit(target1_nd)\n",
    "sns.distplot(target1_nd, fit = stats.norm, ax = ax[0])\n",
    "plt.legend([f''' mean:{mu:.2f}, sd:{sigma:.2f}'''], loc = 'best')\n",
    "\n",
    "(mu1, sigma1) = stats.norm.fit(target2_nd)\n",
    "sns.distplot(target2_nd, fit= stats.norm, ax = ax[1])\n",
    "plt.legend([f''' mean:{mu1:.2f}, sd:{sigma1:.2f}'''], loc = 'best')"
   ]
  },
  {
   "cell_type": "code",
   "execution_count": 116,
   "metadata": {
    "scrolled": true
   },
   "outputs": [
    {
     "data": {
      "text/html": [
       "<div>\n",
       "<style scoped>\n",
       "    .dataframe tbody tr th:only-of-type {\n",
       "        vertical-align: middle;\n",
       "    }\n",
       "\n",
       "    .dataframe tbody tr th {\n",
       "        vertical-align: top;\n",
       "    }\n",
       "\n",
       "    .dataframe thead th {\n",
       "        text-align: right;\n",
       "    }\n",
       "</style>\n",
       "<table border=\"1\" class=\"dataframe\">\n",
       "  <thead>\n",
       "    <tr style=\"text-align: right;\">\n",
       "      <th></th>\n",
       "      <th>0</th>\n",
       "    </tr>\n",
       "  </thead>\n",
       "  <tbody>\n",
       "    <tr>\n",
       "      <th>wall area</th>\n",
       "      <td>0.532375</td>\n",
       "    </tr>\n",
       "    <tr>\n",
       "      <th>relative compactness</th>\n",
       "      <td>0.494544</td>\n",
       "    </tr>\n",
       "    <tr>\n",
       "      <th>orientation</th>\n",
       "      <td>0.000000</td>\n",
       "    </tr>\n",
       "    <tr>\n",
       "      <th>overall height</th>\n",
       "      <td>0.000000</td>\n",
       "    </tr>\n",
       "    <tr>\n",
       "      <th>glazing area</th>\n",
       "      <td>-0.060136</td>\n",
       "    </tr>\n",
       "  </tbody>\n",
       "</table>\n",
       "</div>"
      ],
      "text/plain": [
       "                             0\n",
       "wall area             0.532375\n",
       "relative compactness  0.494544\n",
       "orientation           0.000000\n",
       "overall height        0.000000\n",
       "glazing area         -0.060136"
      ]
     },
     "execution_count": 116,
     "metadata": {},
     "output_type": "execute_result"
    }
   ],
   "source": [
    "# check skewness of feature variables \n",
    "skew_index = df.dtypes[df.dtypes != 'object'].index\n",
    "skew_data = df[skew_index].drop(columns = ['heating load', 'cooling load'])\n",
    "skew_measure = skew_data.apply(lambda x: stats.skew(x.dropna())).sort_values(ascending = False)\n",
    "skew_measure = pd.DataFrame(skew_measure)\n",
    "skew_measure.head()"
   ]
  },
  {
   "cell_type": "markdown",
   "metadata": {},
   "source": [
    "every feature variable is barely skewed so we don't need to worry about it"
   ]
  },
  {
   "cell_type": "code",
   "execution_count": 118,
   "metadata": {},
   "outputs": [
    {
     "data": {
      "text/html": [
       "<div>\n",
       "<style scoped>\n",
       "    .dataframe tbody tr th:only-of-type {\n",
       "        vertical-align: middle;\n",
       "    }\n",
       "\n",
       "    .dataframe tbody tr th {\n",
       "        vertical-align: top;\n",
       "    }\n",
       "\n",
       "    .dataframe thead th {\n",
       "        text-align: right;\n",
       "    }\n",
       "</style>\n",
       "<table border=\"1\" class=\"dataframe\">\n",
       "  <thead>\n",
       "    <tr style=\"text-align: right;\">\n",
       "      <th></th>\n",
       "      <th>0</th>\n",
       "    </tr>\n",
       "  </thead>\n",
       "  <tbody>\n",
       "    <tr>\n",
       "      <th>relative compactness</th>\n",
       "      <td>0.0</td>\n",
       "    </tr>\n",
       "    <tr>\n",
       "      <th>surface area</th>\n",
       "      <td>0.0</td>\n",
       "    </tr>\n",
       "    <tr>\n",
       "      <th>wall area</th>\n",
       "      <td>0.0</td>\n",
       "    </tr>\n",
       "    <tr>\n",
       "      <th>roof area</th>\n",
       "      <td>0.0</td>\n",
       "    </tr>\n",
       "    <tr>\n",
       "      <th>overall height</th>\n",
       "      <td>0.0</td>\n",
       "    </tr>\n",
       "    <tr>\n",
       "      <th>orientation</th>\n",
       "      <td>0.0</td>\n",
       "    </tr>\n",
       "    <tr>\n",
       "      <th>glazing area</th>\n",
       "      <td>0.0</td>\n",
       "    </tr>\n",
       "    <tr>\n",
       "      <th>glazing area distribution</th>\n",
       "      <td>0.0</td>\n",
       "    </tr>\n",
       "    <tr>\n",
       "      <th>heating load</th>\n",
       "      <td>0.0</td>\n",
       "    </tr>\n",
       "    <tr>\n",
       "      <th>cooling load</th>\n",
       "      <td>0.0</td>\n",
       "    </tr>\n",
       "  </tbody>\n",
       "</table>\n",
       "</div>"
      ],
      "text/plain": [
       "                             0\n",
       "relative compactness       0.0\n",
       "surface area               0.0\n",
       "wall area                  0.0\n",
       "roof area                  0.0\n",
       "overall height             0.0\n",
       "orientation                0.0\n",
       "glazing area               0.0\n",
       "glazing area distribution  0.0\n",
       "heating load               0.0\n",
       "cooling load               0.0"
      ]
     },
     "execution_count": 118,
     "metadata": {},
     "output_type": "execute_result"
    }
   ],
   "source": [
    "# check if there is any missing value\n",
    "missing_value = (df.isnull().sum()/len(df))*100\n",
    "missing_value = missing_value.to_frame()\n",
    "missing_value"
   ]
  },
  {
   "cell_type": "code",
   "execution_count": 302,
   "metadata": {
    "scrolled": true
   },
   "outputs": [
    {
     "name": "stdout",
     "output_type": "stream",
     "text": [
      "(614, 8) (154, 8) (614, 2) (154, 2)\n"
     ]
    }
   ],
   "source": [
    "# scaling data and splitting it to train test\n",
    "from sklearn.preprocessing import MinMaxScaler\n",
    "X = df.iloc[:, :8].values\n",
    "y = pd.concat((target1_nd, target2_nd), axis = 1).values\n",
    "\n",
    "sc = MinMaxScaler(feature_range = (0,1))\n",
    "X = sc.fit_transform(X)\n",
    "\n",
    "# train test split\n",
    "split = round(df.shape[0]*0.8)\n",
    "X_train, y_train = X[:split, :], y[:split, :]\n",
    "X_test, y_test = X[split:, :], y[split:, :]\n",
    "\n",
    "print(X_train.shape, X_test.shape, y_train.shape, y_test.shape)"
   ]
  },
  {
   "cell_type": "markdown",
   "metadata": {},
   "source": [
    "## Regression Modeling"
   ]
  },
  {
   "cell_type": "code",
   "execution_count": 303,
   "metadata": {},
   "outputs": [],
   "source": [
    "from sklearn.linear_model import LinearRegression\n",
    "from sklearn.preprocessing import PolynomialFeatures\n",
    "from sklearn.svm import SVR\n",
    "from sklearn.tree import DecisionTreeRegressor\n",
    "from sklearn.ensemble import RandomForestRegressor, AdaBoostRegressor, GradientBoostingRegressor\n",
    "from sklearn.multioutput import MultiOutputRegressor  # to wrap around the models that do not handle multiple target variables\n",
    "from sklearn.metrics import r2_score\n",
    "from sklearn.model_selection import cross_val_score\n",
    "from xgboost import XGBRegressor\n",
    "from lightgbm import LGBMRegressor"
   ]
  },
  {
   "cell_type": "code",
   "execution_count": 304,
   "metadata": {
    "scrolled": true
   },
   "outputs": [
    {
     "name": "stdout",
     "output_type": "stream",
     "text": [
      "LR : 0.9157562700895163\n",
      "Poly : 0.9157562700895163\n",
      "SVR : 0.9279480176717719\n",
      "DT : 0.9650676350394362\n",
      "RF : 0.9667850838784832\n",
      "Ada : 0.9325574942346837\n",
      "Gradient : 0.9671817091927617\n",
      "Xgboost : 0.9659842400741173\n",
      "LGBM : 0.9689671266731746\n"
     ]
    }
   ],
   "source": [
    "# testing regression models with KFold K = 10\n",
    "models = []\n",
    "models.append(('LR', LinearRegression()))\n",
    "models.append(('Poly', LinearRegression()))\n",
    "models.append(('SVR', SVR()))\n",
    "models.append(('DT', DecisionTreeRegressor()))\n",
    "models.append(('RF',RandomForestRegressor()))\n",
    "models.append(('Ada', AdaBoostRegressor(n_estimators = 50)))\n",
    "models.append(('Gradient', GradientBoostingRegressor(n_estimators = 50)))\n",
    "models.append(('Xgboost', XGBRegressor(n_estimators = 50, objective = 'reg:squarederror')))\n",
    "models.append(('LGBM', LGBMRegressor(n_estimators = 50)))\n",
    "\n",
    "features = X\n",
    "targets = y\n",
    "\n",
    "for name, model in models:\n",
    "    if name in ('LR','Poly','DT','RF'):\n",
    "        if name in ('Poly'):\n",
    "            poly_reg = PolynomialFeatures(degree = 2)\n",
    "            poly_x = poly_reg.fit_transform(features)\n",
    "            model = model\n",
    "            k_score = cross_val_score(model, features, targets, cv = 10)\n",
    "            print(name + ' :', k_score.mean())\n",
    "        else:\n",
    "            model = model\n",
    "            k_score = cross_val_score(model, features, targets, cv = 10)\n",
    "            print(name + ' :', k_score.mean())\n",
    "    else:\n",
    "        model = MultiOutputRegressor(model)\n",
    "        k_score = cross_val_score(model, features, targets, cv = 10)\n",
    "        print(name + ' :', k_score.mean())\n",
    "    \n"
   ]
  },
  {
   "cell_type": "code",
   "execution_count": 305,
   "metadata": {
    "scrolled": false
   },
   "outputs": [
    {
     "data": {
      "text/html": [
       "<div>\n",
       "<style scoped>\n",
       "    .dataframe tbody tr th:only-of-type {\n",
       "        vertical-align: middle;\n",
       "    }\n",
       "\n",
       "    .dataframe tbody tr th {\n",
       "        vertical-align: top;\n",
       "    }\n",
       "\n",
       "    .dataframe thead th {\n",
       "        text-align: right;\n",
       "    }\n",
       "</style>\n",
       "<table border=\"1\" class=\"dataframe\">\n",
       "  <thead>\n",
       "    <tr style=\"text-align: right;\">\n",
       "      <th></th>\n",
       "      <th>heating load prediction</th>\n",
       "      <th>cooling load prediction</th>\n",
       "    </tr>\n",
       "  </thead>\n",
       "  <tbody>\n",
       "    <tr>\n",
       "      <th>0</th>\n",
       "      <td>14.887887</td>\n",
       "      <td>17.639474</td>\n",
       "    </tr>\n",
       "    <tr>\n",
       "      <th>1</th>\n",
       "      <td>14.884480</td>\n",
       "      <td>17.518259</td>\n",
       "    </tr>\n",
       "    <tr>\n",
       "      <th>2</th>\n",
       "      <td>18.041255</td>\n",
       "      <td>21.742534</td>\n",
       "    </tr>\n",
       "    <tr>\n",
       "      <th>3</th>\n",
       "      <td>18.062676</td>\n",
       "      <td>21.629155</td>\n",
       "    </tr>\n",
       "    <tr>\n",
       "      <th>4</th>\n",
       "      <td>18.040836</td>\n",
       "      <td>21.615342</td>\n",
       "    </tr>\n",
       "  </tbody>\n",
       "</table>\n",
       "</div>"
      ],
      "text/plain": [
       "   heating load prediction  cooling load prediction\n",
       "0                14.887887                17.639474\n",
       "1                14.884480                17.518259\n",
       "2                18.041255                21.742534\n",
       "3                18.062676                21.629155\n",
       "4                18.040836                21.615342"
      ]
     },
     "execution_count": 305,
     "metadata": {},
     "output_type": "execute_result"
    }
   ],
   "source": [
    "# make prediction on the test dataset\n",
    "model = MultiOutputRegressor(LGBMRegressor())\n",
    "model.fit(X_train, y_train)\n",
    "yhat = model.predict(X_test)\n",
    "\n",
    "pred = pd.DataFrame()\n",
    "pred['heating load prediction'] = np.expm1(yhat[:, 0]) # revert back from log\n",
    "pred['cooling load prediction'] = np.expm1(yhat[:, 1])\n",
    "pred.head()"
   ]
  },
  {
   "cell_type": "markdown",
   "metadata": {},
   "source": [
    "lightgbm seems to be the best predicting model followed by GradientBoosting and Decision Tree"
   ]
  },
  {
   "cell_type": "markdown",
   "metadata": {},
   "source": [
    "### Stacking Model"
   ]
  },
  {
   "cell_type": "code",
   "execution_count": 306,
   "metadata": {},
   "outputs": [],
   "source": [
    "from sklearn.base import BaseEstimator, RegressorMixin, TransformerMixin, clone\n",
    "from sklearn.model_selection import KFold\n",
    "\n",
    "class StackingModel(BaseEstimator, RegressorMixin, TransformerMixin):\n",
    "    def __init__(self, base_model, meta_model, n_folds):\n",
    "        self.base_model = base_model\n",
    "        self.meta_model = meta_model\n",
    "        self.n_folds = n_folds\n",
    "    \n",
    "    def fit(self, inputX, inputy):\n",
    "        Kfold = KFold(n_splits = 5, shuffle = True, random_state = 42)\n",
    "        self.base_model_ = [list() for x in self.base_model ] # make empty list for each base model\n",
    "        self.meta_model_ = clone(self.meta_model)\n",
    "        out_of_folds = np.zeros((X.shape[0], y.shape[1])) # create zero arrays\n",
    "        \n",
    "        for i, model in enumerate(self.base_model):\n",
    "            for train_index, test_index in Kfold.split(X,y):\n",
    "                c_model = clone(model)\n",
    "                self.base_model_[i].append(c_model) # append cloned model to the each list\n",
    "                c_model.fit(X[train_index], y[train_index])\n",
    "                y_pred = c_model.predict(X[test_index])\n",
    "                \n",
    "                # append each prediction to zeros to perseve dimensionality\n",
    "                out_of_folds[test_index, i] = y_pred[:,0] \n",
    "                out_of_folds[test_index, i] = y_pred[:,1]\n",
    "                \n",
    "        self.meta_model_.fit(out_of_folds, y)\n",
    "        return self\n",
    "    \n",
    "    def predict(self, inputX): # input = X_test\n",
    "        meta_feature = np.column_stack([\n",
    "                np.column_stack([model.predict(inputX) for x in self.base_model]).mean(axis = 1)\n",
    "                for base_model in self.base_model_])\n",
    "        yhat = self.meta_model_.predict(meta_feature)\n",
    "        return yhat"
   ]
  },
  {
   "cell_type": "code",
   "execution_count": 307,
   "metadata": {},
   "outputs": [],
   "source": [
    "def cross_validate(model, X, y):\n",
    "    cv = KFold(n_splits = 10, shuffle = True, random_state = 42)\n",
    "    k_score = cross_val_score(model, X, y, cv = cv)\n",
    "    return k_score.mean()"
   ]
  },
  {
   "cell_type": "code",
   "execution_count": 387,
   "metadata": {},
   "outputs": [],
   "source": [
    "# define base models\n",
    "LR = LinearRegression()\n",
    "DT = DecisionTreeRegressor()\n",
    "LGBM = MultiOutputRegressor(LGBMRegressor(n_estimators = 100))\n",
    "\n",
    "\n",
    "# define meta model\n",
    "RF = RandomForestRegressor(n_estimators = 50)\n",
    "GB = MultiOutputRegressor(GradientBoostingRegressor(n_estimators = 100))"
   ]
  },
  {
   "cell_type": "code",
   "execution_count": 396,
   "metadata": {},
   "outputs": [],
   "source": [
    "stacked_model = StackingModel(base_model = (LGBM, RF), meta_model = GB, n_folds = 10)"
   ]
  },
  {
   "cell_type": "code",
   "execution_count": 397,
   "metadata": {
    "scrolled": false
   },
   "outputs": [
    {
     "data": {
      "text/plain": [
       "0.911241327592273"
      ]
     },
     "execution_count": 397,
     "metadata": {},
     "output_type": "execute_result"
    }
   ],
   "source": [
    "cross_validate(stacked_model, X_train, y_train)"
   ]
  },
  {
   "cell_type": "markdown",
   "metadata": {},
   "source": [
    "accuracy from stacking cross validation comes out to be lower than the single model"
   ]
  },
  {
   "cell_type": "code",
   "execution_count": 227,
   "metadata": {
    "scrolled": true
   },
   "outputs": [
    {
     "data": {
      "text/plain": [
       "StackingModel(base_model=(LinearRegression(copy_X=True, fit_intercept=True,\n",
       "                                           n_jobs=None, normalize=False),\n",
       "                          DecisionTreeRegressor(ccp_alpha=0.0, criterion='mse',\n",
       "                                                max_depth=None,\n",
       "                                                max_features=None,\n",
       "                                                max_leaf_nodes=None,\n",
       "                                                min_impurity_decrease=0.0,\n",
       "                                                min_impurity_split=None,\n",
       "                                                min_samples_leaf=1,\n",
       "                                                min_samples_split=2,\n",
       "                                                min_weight_fraction_leaf=0.0,\n",
       "                                                presort='deprecated',\n",
       "                                                ran...\n",
       "              meta_model=RandomForestRegressor(bootstrap=True, ccp_alpha=0.0,\n",
       "                                               criterion='mse', max_depth=None,\n",
       "                                               max_features='auto',\n",
       "                                               max_leaf_nodes=None,\n",
       "                                               max_samples=None,\n",
       "                                               min_impurity_decrease=0.0,\n",
       "                                               min_impurity_split=None,\n",
       "                                               min_samples_leaf=1,\n",
       "                                               min_samples_split=2,\n",
       "                                               min_weight_fraction_leaf=0.0,\n",
       "                                               n_estimators=50, n_jobs=None,\n",
       "                                               oob_score=False,\n",
       "                                               random_state=None, verbose=0,\n",
       "                                               warm_start=False),\n",
       "              n_folds=5)"
      ]
     },
     "execution_count": 227,
     "metadata": {},
     "output_type": "execute_result"
    }
   ],
   "source": [
    "# fit stacked_model \n",
    "stacked_model.fit(X_train, y_train)"
   ]
  },
  {
   "cell_type": "code",
   "execution_count": 228,
   "metadata": {},
   "outputs": [
    {
     "data": {
      "text/html": [
       "<div>\n",
       "<style scoped>\n",
       "    .dataframe tbody tr th:only-of-type {\n",
       "        vertical-align: middle;\n",
       "    }\n",
       "\n",
       "    .dataframe tbody tr th {\n",
       "        vertical-align: top;\n",
       "    }\n",
       "\n",
       "    .dataframe thead th {\n",
       "        text-align: right;\n",
       "    }\n",
       "</style>\n",
       "<table border=\"1\" class=\"dataframe\">\n",
       "  <thead>\n",
       "    <tr style=\"text-align: right;\">\n",
       "      <th></th>\n",
       "      <th>heating load predictiom</th>\n",
       "      <th>cooling load prediction</th>\n",
       "    </tr>\n",
       "  </thead>\n",
       "  <tbody>\n",
       "    <tr>\n",
       "      <th>0</th>\n",
       "      <td>13.468360</td>\n",
       "      <td>15.993816</td>\n",
       "    </tr>\n",
       "    <tr>\n",
       "      <th>1</th>\n",
       "      <td>13.637860</td>\n",
       "      <td>15.912125</td>\n",
       "    </tr>\n",
       "    <tr>\n",
       "      <th>2</th>\n",
       "      <td>17.384995</td>\n",
       "      <td>20.634343</td>\n",
       "    </tr>\n",
       "    <tr>\n",
       "      <th>3</th>\n",
       "      <td>17.332393</td>\n",
       "      <td>20.591578</td>\n",
       "    </tr>\n",
       "    <tr>\n",
       "      <th>4</th>\n",
       "      <td>17.309355</td>\n",
       "      <td>20.567804</td>\n",
       "    </tr>\n",
       "  </tbody>\n",
       "</table>\n",
       "</div>"
      ],
      "text/plain": [
       "   heating load predictiom  cooling load prediction\n",
       "0                13.468360                15.993816\n",
       "1                13.637860                15.912125\n",
       "2                17.384995                20.634343\n",
       "3                17.332393                20.591578\n",
       "4                17.309355                20.567804"
      ]
     },
     "execution_count": 228,
     "metadata": {},
     "output_type": "execute_result"
    }
   ],
   "source": [
    "yhat = stacked_model.predict(X_test)\n",
    "pred = pd.DataFrame()\n",
    "pred['heating load predictiom'] = np.expm1(yhat[:, 0])\n",
    "pred['cooling load prediction'] = np.expm1(yhat[:, 1])\n",
    "pred.head()"
   ]
  },
  {
   "cell_type": "markdown",
   "metadata": {},
   "source": [
    "### Using Neural Network"
   ]
  },
  {
   "cell_type": "code",
   "execution_count": 257,
   "metadata": {},
   "outputs": [],
   "source": [
    "from tensorflow.keras.models import Sequential\n",
    "from tensorflow.keras.layers import Dense, Dropout\n",
    "from tensorflow.keras.optimizers import Adam\n",
    "from tensorflow.keras.callbacks import EarlyStopping\n",
    "import tensorflow.keras.backend as K"
   ]
  },
  {
   "cell_type": "code",
   "execution_count": 278,
   "metadata": {},
   "outputs": [],
   "source": [
    "K.clear_session()\n",
    "\n",
    "model = Sequential()\n",
    "model.add(Dense(10, input_dim = 8, activation = 'relu'))\n",
    "model.add(Dense(5, activation = 'relu'))\n",
    "model.add(Dense(2, activation = 'linear'))\n",
    "opt = Adam(lr = 0.001)\n",
    "model.compile(loss = 'mean_squared_error', optimizer = opt, metrics = ['accuracy'])"
   ]
  },
  {
   "cell_type": "code",
   "execution_count": 279,
   "metadata": {
    "scrolled": false
   },
   "outputs": [
    {
     "name": "stdout",
     "output_type": "stream",
     "text": [
      "Epoch 1/40\n",
      " - 0s - loss: 0.2428 - acc: 0.2513\n",
      "Epoch 2/40\n",
      " - 0s - loss: 0.1573 - acc: 0.4727\n",
      "Epoch 3/40\n",
      " - 0s - loss: 0.1056 - acc: 0.6380\n",
      "Epoch 4/40\n",
      " - 0s - loss: 0.0715 - acc: 0.7214\n",
      "Epoch 5/40\n",
      " - 0s - loss: 0.0484 - acc: 0.7669\n",
      "Epoch 6/40\n",
      " - 0s - loss: 0.0336 - acc: 0.7539\n",
      "Epoch 7/40\n",
      " - 0s - loss: 0.0244 - acc: 0.7292\n",
      "Epoch 8/40\n",
      " - 0s - loss: 0.0194 - acc: 0.7161\n",
      "Epoch 9/40\n",
      " - 0s - loss: 0.0159 - acc: 0.7253\n",
      "Epoch 10/40\n",
      " - 0s - loss: 0.0136 - acc: 0.7474\n",
      "Epoch 11/40\n",
      " - 0s - loss: 0.0118 - acc: 0.7669\n",
      "Epoch 12/40\n",
      " - 0s - loss: 0.0104 - acc: 0.7839\n",
      "Epoch 13/40\n",
      " - 0s - loss: 0.0093 - acc: 0.8164\n",
      "Epoch 14/40\n",
      " - 0s - loss: 0.0085 - acc: 0.8398\n",
      "Epoch 15/40\n",
      " - 0s - loss: 0.0080 - acc: 0.8542\n",
      "Epoch 16/40\n",
      " - 0s - loss: 0.0074 - acc: 0.8698\n",
      "Epoch 17/40\n",
      " - 0s - loss: 0.0071 - acc: 0.8841\n",
      "Epoch 18/40\n",
      " - 0s - loss: 0.0068 - acc: 0.8880\n",
      "Epoch 19/40\n",
      " - 0s - loss: 0.0065 - acc: 0.8997\n",
      "Epoch 20/40\n",
      " - 0s - loss: 0.0063 - acc: 0.9062\n",
      "Epoch 21/40\n",
      " - 0s - loss: 0.0062 - acc: 0.9154\n",
      "Epoch 22/40\n",
      " - 0s - loss: 0.0060 - acc: 0.9141\n",
      "Epoch 23/40\n",
      " - 0s - loss: 0.0059 - acc: 0.9128\n",
      "Epoch 24/40\n",
      " - 0s - loss: 0.0058 - acc: 0.9232\n",
      "Epoch 25/40\n",
      " - 0s - loss: 0.0058 - acc: 0.9271\n",
      "Epoch 26/40\n",
      " - 0s - loss: 0.0056 - acc: 0.9258\n",
      "Epoch 27/40\n",
      " - 0s - loss: 0.0056 - acc: 0.9310\n",
      "Epoch 28/40\n",
      " - 0s - loss: 0.0055 - acc: 0.9375\n",
      "Epoch 29/40\n",
      " - 0s - loss: 0.0054 - acc: 0.9401\n",
      "Epoch 30/40\n",
      " - 0s - loss: 0.0053 - acc: 0.9440\n",
      "Epoch 31/40\n",
      " - 0s - loss: 0.0053 - acc: 0.9479\n",
      "Epoch 32/40\n",
      " - 0s - loss: 0.0054 - acc: 0.9479\n",
      "Epoch 33/40\n",
      " - 0s - loss: 0.0052 - acc: 0.9453\n",
      "Epoch 34/40\n",
      " - 0s - loss: 0.0052 - acc: 0.9505\n",
      "Epoch 35/40\n",
      " - 0s - loss: 0.0052 - acc: 0.9505\n",
      "Epoch 36/40\n",
      " - 0s - loss: 0.0051 - acc: 0.9583\n",
      "Epoch 37/40\n",
      " - 0s - loss: 0.0051 - acc: 0.9518\n",
      "Epoch 38/40\n",
      " - 0s - loss: 0.0050 - acc: 0.9531\n",
      "Epoch 39/40\n",
      " - 0s - loss: 0.0050 - acc: 0.9583\n",
      "Epoch 40/40\n",
      " - 0s - loss: 0.0050 - acc: 0.9544\n"
     ]
    },
    {
     "data": {
      "image/png": "[encoded data removed]",
      "text/plain": [
       "<Figure size 864x576 with 1 Axes>"
      ]
     },
     "metadata": {},
     "output_type": "display_data"
    }
   ],
   "source": [
    "y_sc = sc.fit_transform(y)\n",
    "es = EarlyStopping(monitor = 'loss', patience = 10, mode = 'min')\n",
    "\n",
    "history = model.fit(X, y_sc, \n",
    "                    epochs = 40, \n",
    "                    batch_size = 32,\n",
    "                    callbacks = [es],\n",
    "                    verbose = 2)\n",
    "\n",
    "plt.figure(figsize=(12,8))\n",
    "plt.plot(history.history['loss'], label = 'loss')\n",
    "plt.legend()\n",
    "plt.show()\n"
   ]
  },
  {
   "cell_type": "code",
   "execution_count": 280,
   "metadata": {
    "scrolled": false
   },
   "outputs": [
    {
     "name": "stdout",
     "output_type": "stream",
     "text": [
      "768/768 [==============================] - 0s 77us/sample - loss: 0.0050 - acc: 0.9570\n"
     ]
    },
    {
     "data": {
      "text/plain": [
       "[0.005020954830494399, 0.95703125]"
      ]
     },
     "execution_count": 280,
     "metadata": {},
     "output_type": "execute_result"
    }
   ],
   "source": [
    "model.evaluate(X,y_sc)"
   ]
  },
  {
   "cell_type": "code",
   "execution_count": 281,
   "metadata": {
    "scrolled": true
   },
   "outputs": [
    {
     "name": "stdout",
     "output_type": "stream",
     "text": [
      " RMSE heating: 0.30845438753859117\n",
      " RMSE cooling: 0.5186082492001748\n"
     ]
    }
   ],
   "source": [
    "from sklearn.metrics import mean_squared_error\n",
    "import math as m\n",
    "prediction = model.predict(X)\n",
    "print(f''' RMSE heating: {m.sqrt(mean_squared_error(features[:, 0], prediction[:, 0]))}''')\n",
    "print(f''' RMSE cooling: {m.sqrt(mean_squared_error(features[:, 1], prediction[:, 1]))}''')"
   ]
  },
  {
   "cell_type": "markdown",
   "metadata": {},
   "source": [
    "### Integrated Stacking Neural Network"
   ]
  },
  {
   "cell_type": "code",
   "execution_count": 282,
   "metadata": {},
   "outputs": [],
   "source": [
    "# constructing base modle\n",
    "def fit_model(inputX, inputy):\n",
    "    model = Sequential()\n",
    "    model.add(Dense(10, input_dim = 8, activation = 'relu'))\n",
    "    model.add(Dense(5, activation = 'relu'))\n",
    "    model.add(Dense(2, activation = 'linear'))\n",
    "    opt = Adam(lr = 0.001)\n",
    "    \n",
    "    model.compile(loss = 'mean_squared_error', optimizer = opt, metrics = ['accuracy'])\n",
    "    model.fit(inputX, inputy, epochs = 50, batch_size = 32, verbose = 0)\n",
    "    return model"
   ]
  },
  {
   "cell_type": "code",
   "execution_count": 265,
   "metadata": {},
   "outputs": [],
   "source": [
    "from os import makedirs\n",
    "makedirs('reg_models')"
   ]
  },
  {
   "cell_type": "code",
   "execution_count": 283,
   "metadata": {},
   "outputs": [
    {
     "name": "stdout",
     "output_type": "stream",
     "text": [
      " > saved reg_models/model_1\n",
      " > saved reg_models/model_2\n",
      " > saved reg_models/model_3\n",
      " > saved reg_models/model_4\n",
      " > saved reg_models/model_5\n"
     ]
    }
   ],
   "source": [
    "# saving models to directory\n",
    "n_members = 5\n",
    "for i in range(n_members):\n",
    "    model = fit_model(X_train, y_train)\n",
    "    filename = 'reg_models/model_' + str(i+1)\n",
    "    model.save(filename)\n",
    "    print(f''' > saved {filename}''')"
   ]
  },
  {
   "cell_type": "code",
   "execution_count": 284,
   "metadata": {},
   "outputs": [],
   "source": [
    "# loading model\n",
    "from tensorflow.keras.models import load_model\n",
    "def loading_model(n_models):\n",
    "    all_models = list()\n",
    "    for i in range(n_models):\n",
    "        filename = 'reg_models/model_' + str(i+1)\n",
    "        model = load_model(filename)\n",
    "        all_models.append(model)\n",
    "        print(f''' > loaded {filename}''')\n",
    "    return all_models"
   ]
  },
  {
   "cell_type": "code",
   "execution_count": 285,
   "metadata": {},
   "outputs": [
    {
     "name": "stdout",
     "output_type": "stream",
     "text": [
      " > loaded reg_models/model_1\n",
      " > loaded reg_models/model_2\n",
      " > loaded reg_models/model_3\n",
      " > loaded reg_models/model_4\n",
      " > loaded reg_models/model_5\n"
     ]
    }
   ],
   "source": [
    "all_models = loading_model(n_models = 5)"
   ]
  },
  {
   "cell_type": "code",
   "execution_count": 431,
   "metadata": {},
   "outputs": [],
   "source": [
    "# define stacking model\n",
    "from tensorflow.keras.layers import Input, concatenate\n",
    "from tensorflow.keras.models import Model\n",
    "\n",
    "def define_stacking_model(models):\n",
    "    for i in range(len(models)):\n",
    "        model = models[i]\n",
    "        for layer in model.layers:\n",
    "            # to preserve weight\n",
    "            layer.trainable = False\n",
    "            \n",
    "    # define input\n",
    "    ensemble_input = [model.input for model in models]\n",
    "    # define output\n",
    "    ensemble_output = [model.output for model in models]\n",
    "    merge = concatenate(ensemble_output)\n",
    "    # define layers\n",
    "    hidden = Dense(32, activation = 'relu')(merge)\n",
    "    hidden = Dense(8, activation = 'relu')(hidden)# using base model output as input for meta NN\n",
    "    output = Dense(2, activation = 'linear')(hidden)\n",
    "    \n",
    "    #compile model\n",
    "    model = Model(inputs = ensemble_input, outputs = output)\n",
    "    opt = Adam(lr = 0.01)\n",
    "    model.compile(loss = 'mean_squared_error', optimizer = opt, metrics = ['accuracy'])\n",
    "    \n",
    "    return model"
   ]
  },
  {
   "cell_type": "code",
   "execution_count": 432,
   "metadata": {},
   "outputs": [],
   "source": [
    "from tensorflow.keras.utils import to_categorical \n",
    "\n",
    "def fit_stacking_model(model, inputX, inputy):\n",
    "    X = [inputX for _ in range(len(model.input))] # input of each model from stacked model\n",
    "    model.fit(X, inputy, epochs = 100, batch_size = 64, verbose = 0)"
   ]
  },
  {
   "cell_type": "code",
   "execution_count": 433,
   "metadata": {},
   "outputs": [],
   "source": [
    "def predict_stacking_model(model, inputX):\n",
    "    X = [inputX for _ in range(len(model.input))] # input of each model from fitted model\n",
    "    pred = model.predict(X)\n",
    "    return pred"
   ]
  },
  {
   "cell_type": "code",
   "execution_count": 434,
   "metadata": {},
   "outputs": [],
   "source": [
    "stacked_model = define_stacking_model(all_models)"
   ]
  },
  {
   "cell_type": "code",
   "execution_count": 435,
   "metadata": {
    "scrolled": true
   },
   "outputs": [],
   "source": [
    "fit_stacking_model(stacked_model, X_test, y_test)"
   ]
  },
  {
   "cell_type": "code",
   "execution_count": 436,
   "metadata": {},
   "outputs": [
    {
     "data": {
      "text/html": [
       "<div>\n",
       "<style scoped>\n",
       "    .dataframe tbody tr th:only-of-type {\n",
       "        vertical-align: middle;\n",
       "    }\n",
       "\n",
       "    .dataframe tbody tr th {\n",
       "        vertical-align: top;\n",
       "    }\n",
       "\n",
       "    .dataframe thead th {\n",
       "        text-align: right;\n",
       "    }\n",
       "</style>\n",
       "<table border=\"1\" class=\"dataframe\">\n",
       "  <thead>\n",
       "    <tr style=\"text-align: right;\">\n",
       "      <th></th>\n",
       "      <th>heating load prediction</th>\n",
       "      <th>cooling load prediction</th>\n",
       "    </tr>\n",
       "  </thead>\n",
       "  <tbody>\n",
       "    <tr>\n",
       "      <th>0</th>\n",
       "      <td>14.213203</td>\n",
       "      <td>17.734831</td>\n",
       "    </tr>\n",
       "    <tr>\n",
       "      <th>1</th>\n",
       "      <td>14.561985</td>\n",
       "      <td>17.892523</td>\n",
       "    </tr>\n",
       "    <tr>\n",
       "      <th>2</th>\n",
       "      <td>14.495424</td>\n",
       "      <td>18.259027</td>\n",
       "    </tr>\n",
       "    <tr>\n",
       "      <th>3</th>\n",
       "      <td>14.874223</td>\n",
       "      <td>18.910276</td>\n",
       "    </tr>\n",
       "    <tr>\n",
       "      <th>4</th>\n",
       "      <td>15.070138</td>\n",
       "      <td>18.968887</td>\n",
       "    </tr>\n",
       "  </tbody>\n",
       "</table>\n",
       "</div>"
      ],
      "text/plain": [
       "   heating load prediction  cooling load prediction\n",
       "0                14.213203                17.734831\n",
       "1                14.561985                17.892523\n",
       "2                14.495424                18.259027\n",
       "3                14.874223                18.910276\n",
       "4                15.070138                18.968887"
      ]
     },
     "execution_count": 436,
     "metadata": {},
     "output_type": "execute_result"
    }
   ],
   "source": [
    "yhat = predict_stacking_model(stacked_model, X_test)\n",
    "final_prediction = pd.DataFrame()\n",
    "final_prediction['heating load prediction'] = np.expm1(yhat[:, 0])\n",
    "final_prediction['cooling load prediction'] = np.expm1(yhat[:, 1])\n",
    "\n",
    "final_prediction.head()"
   ]
  },
  {
   "cell_type": "code",
   "execution_count": 437,
   "metadata": {},
   "outputs": [
    {
     "name": "stdout",
     "output_type": "stream",
     "text": [
      " heating load prediction accuracy: 0.9301149457797588\n",
      " cooling load prediction accuracy: 0.9154736482065055\n"
     ]
    }
   ],
   "source": [
    "from sklearn.metrics import r2_score\n",
    "heating_load_acc = r2_score(y_test[:,0], yhat[:,0])\n",
    "cooling_load_acc = r2_score(y_test[:,1], yhat[:,1])\n",
    "\n",
    "print(f''' heating load prediction accuracy: {heating_load_acc}''')\n",
    "print(f''' cooling load prediction accuracy: {cooling_load_acc}''')"
   ]
  },
  {
   "cell_type": "code",
   "execution_count": null,
   "metadata": {},
   "outputs": [],
   "source": []
  }
 ],
 "metadata": {
  "kernelspec": {
   "display_name": "Python 3",
   "language": "python",
   "name": "python3"
  },
  "language_info": {
   "codemirror_mode": {
    "name": "ipython",
    "version": 3
   },
   "file_extension": ".py",
   "mimetype": "text/x-python",
   "name": "python",
   "nbconvert_exporter": "python",
   "pygments_lexer": "ipython3",
   "version": "3.7.3"
  }
 },
 "nbformat": 4,
 "nbformat_minor": 2
}
